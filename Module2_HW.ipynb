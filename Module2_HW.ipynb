{
  "cells": [
    {
      "cell_type": "markdown",
      "metadata": {
        "id": "view-in-github",
        "colab_type": "text"
      },
      "source": [
        "<a href=\"https://colab.research.google.com/github/Sharon20222/Cloud-Computing/blob/main/Module2_HW.ipynb\" target=\"_parent\"><img src=\"https://colab.research.google.com/assets/colab-badge.svg\" alt=\"Open In Colab\"/></a>"
      ]
    },
    {
      "cell_type": "markdown",
      "id": "af429c00-0a11-41de-a117-04d1ca17bc05",
      "metadata": {
        "id": "af429c00-0a11-41de-a117-04d1ca17bc05"
      },
      "source": [
        "**Module-2 Homework**\n",
        "- Give the code for each question\n",
        "- Give me a clear expalanation of your solution way for each question\n",
        "- Submit the notebook as well as its pdf version"
      ]
    },
    {
      "cell_type": "raw",
      "id": "20bbdecd-fe5d-48d6-96ef-20583c1bd178",
      "metadata": {
        "id": "20bbdecd-fe5d-48d6-96ef-20583c1bd178"
      },
      "source": [
        "Question 1: Leetcode Question #189. Easy. \"Rotate Array\"\n",
        "\n",
        "Given an integer array nums, rotate the array to the right by k steps, where k is non-negative.\n",
        "\n",
        "\n",
        "\n",
        "Example 1:\n",
        "\n",
        "Input: nums = [1,2,3,4,5,6,7], k = 3\n",
        "Output: [5,6,7,1,2,3,4]\n",
        "Explanation:\n",
        "rotate 1 steps to the right: [7,1,2,3,4,5,6]\n",
        "rotate 2 steps to the right: [6,7,1,2,3,4,5]\n",
        "rotate 3 steps to the right: [5,6,7,1,2,3,4]\n",
        "Example 2:\n",
        "\n",
        "Input: nums = [-1,-100,3,99], k = 2\n",
        "Output: [3,99,-1,-100]\n",
        "Explanation:\n",
        "rotate 1 steps to the right: [99,-1,-100,3]\n",
        "rotate 2 steps to the right: [3,99,-1,-100]"
      ]
    },
    {
      "cell_type": "markdown",
      "id": "6d82f384-2206-474d-8872-5dbb2592be76",
      "metadata": {
        "id": "6d82f384-2206-474d-8872-5dbb2592be76"
      },
      "source": [
        "Question 3: Leetcode Question #21. Easy. \"Merge Two Sorted List\"\n",
        "\n",
        "ou are given the heads of two sorted linked lists list1 and list2.\n",
        "\n",
        "Merge the two lists into one sorted list. The list should be made by splicing together the nodes of the first two lists.\n",
        "\n",
        "Return the head of the merged linked list.\n",
        "\n",
        "\n",
        "\n",
        "Example 1:\n",
        "\n",
        "![merge_ex1.jpg](attachment:d83dd8c8-a5b3-442b-9716-daf3ce3963a8.jpg)\n",
        "\n",
        "Input: list1 = [1,2,4], list2 = [1,3,4]\n",
        "Output: [1,1,2,3,4,4]\n",
        "Example 2:\n",
        "\n",
        "Input: list1 = [], list2 = []\n",
        "Output: []\n",
        "Example 3:\n",
        "\n",
        "Input: list1 = [], list2 = [0]\n",
        "Output: [0]\n",
        "\n",
        "\n",
        "Constraints:\n",
        "\n",
        "The number of nodes in both lists is in the range [0, 50].\n",
        "-100 <= Node.val <= 100\n",
        "Both list1 and list2 are sorted in non-decreasing order."
      ]
    },
    {
      "cell_type": "markdown",
      "source": [
        "# **Question 3**"
      ],
      "metadata": {
        "id": "JaatmscdSRvf"
      },
      "id": "JaatmscdSRvf"
    },
    {
      "cell_type": "code",
      "execution_count": 1,
      "id": "8b3fdd05-b829-4d75-93f0-d70c88a3d7c4",
      "metadata": {
        "colab": {
          "base_uri": "https://localhost:8080/"
        },
        "id": "8b3fdd05-b829-4d75-93f0-d70c88a3d7c4",
        "outputId": "a1f2e0c2-4246-447b-e6cf-7cbed995efae"
      },
      "outputs": [
        {
          "output_type": "stream",
          "name": "stdout",
          "text": [
            "[1, 1, 2, 3, 4, 4]\n",
            "[]\n",
            "[0]\n"
          ]
        }
      ],
      "source": [
        "def mergeTwoLists(list1, list2):\n",
        "    # Validate constraints\n",
        "    if not (0 <= len(list1) <= 50 and 0 <= len(list2) <= 50):\n",
        "        raise ValueError(\"Both lists must have a size in the range [0, 50].\")\n",
        "\n",
        "    if not all(-100 <= val <= 100 for val in list1 + list2):\n",
        "        raise ValueError(\"All values in the lists must be in the range [-100, 100].\")\n",
        "\n",
        "    # Initialize pointers for both lists\n",
        "    merged_list = []\n",
        "    i, j = 0, 0\n",
        "\n",
        "    # Traverse both lists and compare elements\n",
        "    while i < len(list1) and j < len(list2):\n",
        "        if list1[i] < list2[j]:\n",
        "            merged_list.append(list1[i])\n",
        "            i += 1\n",
        "        else:\n",
        "            merged_list.append(list2[j])\n",
        "            j += 1\n",
        "\n",
        "    # Append any remaining elements from list1 or list2\n",
        "    merged_list.extend(list1[i:])\n",
        "    merged_list.extend(list2[j:])\n",
        "\n",
        "    return merged_list\n",
        "\n",
        "# Example test cases\n",
        "#Example 1\n",
        "list1 = [1, 2, 4]\n",
        "list2 = [1, 3, 4]\n",
        "print(mergeTwoLists(list1, list2))  # Output: [1, 1, 2, 3, 4, 4]\n",
        "\n",
        "#Example 2\n",
        "list1 = []\n",
        "list2 = []\n",
        "print(mergeTwoLists(list1, list2))  # Output: []\n",
        "\n",
        "#Example 3\n",
        "list1 = []\n",
        "list2 = [0]\n",
        "print(mergeTwoLists(list1, list2))  # Output: [0]\n"
      ]
    }
  ],
  "metadata": {
    "kernelspec": {
      "display_name": "Python 3 (ipykernel)",
      "language": "python",
      "name": "python3"
    },
    "language_info": {
      "codemirror_mode": {
        "name": "ipython",
        "version": 3
      },
      "file_extension": ".py",
      "mimetype": "text/x-python",
      "name": "python",
      "nbconvert_exporter": "python",
      "pygments_lexer": "ipython3",
      "version": "3.11.4"
    },
    "colab": {
      "provenance": [],
      "include_colab_link": true
    }
  },
  "nbformat": 4,
  "nbformat_minor": 5
}